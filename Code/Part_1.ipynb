{
    "cells": [
        {
            "cell_type": "code",
            "execution_count": 1,
            "source": [
                "#Libraries\r\n",
                "import librosa\r\n",
                "import numpy as np\r\n",
                "import pandas as pd\r\n",
                "import glob  \r\n",
                "import os\r\n",
                "import sys"
            ],
            "outputs": [],
            "metadata": {}
        },
        {
            "cell_type": "code",
            "execution_count": 2,
            "source": [
                "#SAVEE\r\n",
                "SAVEE = \"C:\\\\Users\\\\Kshitiz\\\\Desktop\\\\IBM_InternShip\\\\DataSet\\\\SAVEE\\\\ALL\"\r\n",
                "dir_list = os.listdir(SAVEE)\r\n",
                "\r\n",
                "# parse the filename to get the emotions\r\n",
                "emotion=[]\r\n",
                "path = []\r\n",
                "for i in dir_list:\r\n",
                "    if i[-8:-6]=='_a':\r\n",
                "        emotion.append('male_angry')\r\n",
                "    elif i[-8:-6]=='_d':\r\n",
                "        emotion.append('male_disgust')\r\n",
                "    elif i[-8:-6]=='_f':\r\n",
                "        emotion.append('male_fear')\r\n",
                "    elif i[-8:-6]=='_h':\r\n",
                "        emotion.append('male_happy')\r\n",
                "    elif i[-8:-6]=='_n':\r\n",
                "        emotion.append('male_neutral')\r\n",
                "    elif i[-8:-6]=='sa':\r\n",
                "        emotion.append('male_sad')\r\n",
                "    elif i[-8:-6]=='su':\r\n",
                "        emotion.append('male_surprise')\r\n",
                "    else:\r\n",
                "        emotion.append('male_error') \r\n",
                "    path.append(SAVEE +\"\\\\\" + i)\r\n",
                "    \r\n",
                "SAVEE_df = pd.DataFrame(emotion, columns = ['labels'])\r\n",
                "SAVEE_df['source'] = 'SAVEE'\r\n",
                "SAVEE_df = pd.concat([SAVEE_df, pd.DataFrame(path, columns = ['path'])], axis = 1)\r\n",
                "SAVEE_df.labels.value_counts()"
            ],
            "outputs": [
                {
                    "output_type": "execute_result",
                    "data": {
                        "text/plain": [
                            "male_neutral     120\n",
                            "male_angry        60\n",
                            "male_disgust      60\n",
                            "male_happy        60\n",
                            "male_sad          60\n",
                            "male_surprise     60\n",
                            "male_fear         60\n",
                            "Name: labels, dtype: int64"
                        ]
                    },
                    "metadata": {},
                    "execution_count": 2
                }
            ],
            "metadata": {}
        },
        {
            "cell_type": "code",
            "execution_count": 3,
            "source": [
                "\r\n",
                "#Ravdess\r\n",
                "RAVDESS = \"C:\\\\Users\\\\Kshitiz\\\\Desktop\\\\IBM_InternShip\\\\DataSet\\\\RAVDESS\\\\audio_speech_actors_01-24\"\r\n",
                "dir_list = os.listdir(RAVDESS)\r\n",
                "dir_list.sort()\r\n",
                "\r\n",
                "emotion = []\r\n",
                "gender = []\r\n",
                "path = []\r\n",
                "for i in dir_list:\r\n",
                "    fname = os.listdir(RAVDESS + \"\\\\\" +i)\r\n",
                "    for f in fname:\r\n",
                "        part = f.split('.')[0].split('-')\r\n",
                "        emotion.append(int(part[2]))\r\n",
                "        temp = int(part[6])\r\n",
                "        if temp%2 == 0:\r\n",
                "            temp = \"female\"\r\n",
                "        else:\r\n",
                "            temp = \"male\"\r\n",
                "        gender.append(temp)\r\n",
                "        path.append(RAVDESS +\"\\\\\"+ i +\"\\\\\"+ f)\r\n",
                "\r\n",
                "        \r\n",
                "RAVDESS_df = pd.DataFrame(emotion)\r\n",
                "RAVDESS_df = RAVDESS_df.replace({1:'neutral', 2:'neutral', 3:'happy', 4:'sad', 5:'angry', 6:'fear', 7:'disgust', 8:'surprise'})\r\n",
                "RAVDESS_df = pd.concat([pd.DataFrame(gender),RAVDESS_df],axis=1)\r\n",
                "RAVDESS_df.columns = ['gender','emotion']\r\n",
                "RAVDESS_df['labels'] =RAVDESS_df.gender + '_' + RAVDESS_df.emotion\r\n",
                "RAVDESS_df['source'] = 'RAVDESS'  \r\n",
                "RAVDESS_df = pd.concat([RAVDESS_df,pd.DataFrame(path, columns = ['path'])],axis=1)\r\n",
                "RAVDESS_df = RAVDESS_df.drop(['gender', 'emotion'], axis=1)\r\n",
                "RAVDESS_df.labels.value_counts()"
            ],
            "outputs": [
                {
                    "output_type": "execute_result",
                    "data": {
                        "text/plain": [
                            "female_neutral     144\n",
                            "male_neutral       144\n",
                            "male_disgust        96\n",
                            "male_surprise       96\n",
                            "female_fear         96\n",
                            "female_sad          96\n",
                            "female_disgust      96\n",
                            "female_surprise     96\n",
                            "male_happy          96\n",
                            "male_angry          96\n",
                            "female_happy        96\n",
                            "male_sad            96\n",
                            "female_angry        96\n",
                            "male_fear           96\n",
                            "Name: labels, dtype: int64"
                        ]
                    },
                    "metadata": {},
                    "execution_count": 3
                }
            ],
            "metadata": {}
        },
        {
            "cell_type": "code",
            "execution_count": 4,
            "source": [
                "df = pd.concat([SAVEE_df,RAVDESS_df], axis = 0)\r\n",
                "print(df.labels.value_counts())\r\n",
                "df.head()\r\n",
                "df.to_csv(\"Data_path.csv\",index=False)"
            ],
            "outputs": [
                {
                    "output_type": "stream",
                    "name": "stdout",
                    "text": [
                        "male_neutral       264\n",
                        "male_disgust       156\n",
                        "male_surprise      156\n",
                        "male_happy         156\n",
                        "male_angry         156\n",
                        "male_sad           156\n",
                        "male_fear          156\n",
                        "female_neutral     144\n",
                        "female_fear         96\n",
                        "female_sad          96\n",
                        "female_disgust      96\n",
                        "female_surprise     96\n",
                        "female_happy        96\n",
                        "female_angry        96\n",
                        "Name: labels, dtype: int64\n"
                    ]
                }
            ],
            "metadata": {}
        }
    ],
    "metadata": {
        "orig_nbformat": 4,
        "language_info": {
            "name": "python",
            "version": "3.8.8",
            "mimetype": "text/x-python",
            "codemirror_mode": {
                "name": "ipython",
                "version": 3
            },
            "pygments_lexer": "ipython3",
            "nbconvert_exporter": "python",
            "file_extension": ".py"
        },
        "kernelspec": {
            "name": "python3",
            "display_name": "Python 3.8.8 64-bit ('base': conda)"
        },
        "interpreter": {
            "hash": "b3ba2566441a7c06988d0923437866b63cedc61552a5af99d1f4fb67d367b25f"
        }
    },
    "nbformat": 4,
    "nbformat_minor": 2
}