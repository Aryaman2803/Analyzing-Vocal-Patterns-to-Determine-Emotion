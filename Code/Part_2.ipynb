{
    "cells": [
        {
            "cell_type": "code",
            "execution_count": 1,
            "source": [
                "import pandas as pd\r\n",
                "import os\r\n",
                "import librosa\r\n",
                "import librosa.display\r\n",
                "import matplotlib.pyplot as plt\r\n",
                "from sklearn.preprocessing import normalize\r\n",
                "import warnings\r\n",
                "warnings.filterwarnings('ignore')\r\n",
                "import numpy as np\r\n",
                "import pickle\r\n",
                "import joblib\r\n",
                "from sklearn.model_selection import train_test_split\r\n",
                "from tensorflow.keras import models, layers\r\n",
                "import tensorflow as tf"
            ],
            "outputs": [],
            "metadata": {}
        },
        {
            "cell_type": "code",
            "execution_count": 5,
            "source": [
                "import numpy as np\r\n",
                "import matplotlib.pyplot as plt\r\n",
                "import scipy\r\n",
                "from scipy.io import wavfile\r\n",
                "from python_speech_features import mfcc, logfbank\r\n",
                "\r\n",
                "frequency_sampling, audio_signal = wavfile.read(\"C:\\\\Users\\\\Kshitiz\\\\Desktop\\\\IBM_InternShip\\\\test\")\r\n",
                "\r\n",
                "audio_signal = audio_signal[:15000]\r\n",
                "\r\n",
                "features_mfcc = mfcc(audio_signal, frequency_sampling)\r\n",
                "\r\n",
                "print('\\nMFCC:\\nNumber of windows =', features_mfcc.shape[0])\r\n",
                "print('Length of each feature =', features_mfcc.shape[1])\r\n",
                "\r\n",
                "\r\n",
                "\r\n",
                "features_mfcc = features_mfcc.T\r\n",
                "plt.matshow(features_mfcc)\r\n",
                "plt.title('MFCC')\r\n",
                "\r\n",
                "filterbank_features = logfbank(audio_signal, frequency_sampling)\r\n",
                "\r\n",
                "print('\\nFilter bank:\\nNumber of windows =', filterbank_features.shape[0])\r\n",
                "print('Length of each feature =', filterbank_features.shape[1])\r\n",
                "\r\n",
                "filterbank_features = filterbank_features.T\r\n",
                "plt.matshow(filterbank_features)\r\n",
                "plt.title('Filter bank')\r\n",
                "plt.show()"
            ],
            "outputs": [
                {
                    "output_type": "error",
                    "ename": "FileNotFoundError",
                    "evalue": "[Errno 2] No such file or directory: 'C:\\\\Users\\\\Kshitiz\\\\Desktop\\\\IBM_InternShip\\\\test'",
                    "traceback": [
                        "\u001b[1;31m---------------------------------------------------------------------------\u001b[0m",
                        "\u001b[1;31mFileNotFoundError\u001b[0m                         Traceback (most recent call last)",
                        "\u001b[1;32m<ipython-input-5-d4608e8544ff>\u001b[0m in \u001b[0;36m<module>\u001b[1;34m\u001b[0m\n\u001b[0;32m      5\u001b[0m \u001b[1;32mfrom\u001b[0m \u001b[0mpython_speech_features\u001b[0m \u001b[1;32mimport\u001b[0m \u001b[0mmfcc\u001b[0m\u001b[1;33m,\u001b[0m \u001b[0mlogfbank\u001b[0m\u001b[1;33m\u001b[0m\u001b[1;33m\u001b[0m\u001b[0m\n\u001b[0;32m      6\u001b[0m \u001b[1;33m\u001b[0m\u001b[0m\n\u001b[1;32m----> 7\u001b[1;33m \u001b[0mfrequency_sampling\u001b[0m\u001b[1;33m,\u001b[0m \u001b[0maudio_signal\u001b[0m \u001b[1;33m=\u001b[0m \u001b[0mwavfile\u001b[0m\u001b[1;33m.\u001b[0m\u001b[0mread\u001b[0m\u001b[1;33m(\u001b[0m\u001b[1;34m\"C:\\\\Users\\\\Kshitiz\\\\Desktop\\\\IBM_InternShip\\\\test\"\u001b[0m\u001b[1;33m)\u001b[0m\u001b[1;33m\u001b[0m\u001b[1;33m\u001b[0m\u001b[0m\n\u001b[0m\u001b[0;32m      8\u001b[0m \u001b[1;33m\u001b[0m\u001b[0m\n\u001b[0;32m      9\u001b[0m \u001b[0maudio_signal\u001b[0m \u001b[1;33m=\u001b[0m \u001b[0maudio_signal\u001b[0m\u001b[1;33m[\u001b[0m\u001b[1;33m:\u001b[0m\u001b[1;36m15000\u001b[0m\u001b[1;33m]\u001b[0m\u001b[1;33m\u001b[0m\u001b[1;33m\u001b[0m\u001b[0m\n",
                        "\u001b[1;32mC:\\ProgramData\\Anaconda3\\lib\\site-packages\\scipy\\io\\wavfile.py\u001b[0m in \u001b[0;36mread\u001b[1;34m(filename, mmap)\u001b[0m\n\u001b[0;32m    637\u001b[0m         \u001b[0mmmap\u001b[0m \u001b[1;33m=\u001b[0m \u001b[1;32mFalse\u001b[0m\u001b[1;33m\u001b[0m\u001b[1;33m\u001b[0m\u001b[0m\n\u001b[0;32m    638\u001b[0m     \u001b[1;32melse\u001b[0m\u001b[1;33m:\u001b[0m\u001b[1;33m\u001b[0m\u001b[1;33m\u001b[0m\u001b[0m\n\u001b[1;32m--> 639\u001b[1;33m         \u001b[0mfid\u001b[0m \u001b[1;33m=\u001b[0m \u001b[0mopen\u001b[0m\u001b[1;33m(\u001b[0m\u001b[0mfilename\u001b[0m\u001b[1;33m,\u001b[0m \u001b[1;34m'rb'\u001b[0m\u001b[1;33m)\u001b[0m\u001b[1;33m\u001b[0m\u001b[1;33m\u001b[0m\u001b[0m\n\u001b[0m\u001b[0;32m    640\u001b[0m \u001b[1;33m\u001b[0m\u001b[0m\n\u001b[0;32m    641\u001b[0m     \u001b[1;32mtry\u001b[0m\u001b[1;33m:\u001b[0m\u001b[1;33m\u001b[0m\u001b[1;33m\u001b[0m\u001b[0m\n",
                        "\u001b[1;31mFileNotFoundError\u001b[0m: [Errno 2] No such file or directory: 'C:\\\\Users\\\\Kshitiz\\\\Desktop\\\\IBM_InternShip\\\\test'"
                    ]
                }
            ],
            "metadata": {}
        }
    ],
    "metadata": {
        "orig_nbformat": 4,
        "language_info": {
            "name": "python",
            "version": "3.8.8",
            "mimetype": "text/x-python",
            "codemirror_mode": {
                "name": "ipython",
                "version": 3
            },
            "pygments_lexer": "ipython3",
            "nbconvert_exporter": "python",
            "file_extension": ".py"
        },
        "kernelspec": {
            "name": "python3",
            "display_name": "Python 3.8.8 64-bit ('base': conda)"
        },
        "interpreter": {
            "hash": "b3ba2566441a7c06988d0923437866b63cedc61552a5af99d1f4fb67d367b25f"
        }
    },
    "nbformat": 4,
    "nbformat_minor": 2
}